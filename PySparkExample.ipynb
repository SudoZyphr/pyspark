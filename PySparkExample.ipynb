{
 "cells": [
  {
   "cell_type": "code",
   "execution_count": 2,
   "metadata": {},
   "outputs": [],
   "source": [
    "from pyspark.sql import SparkSession\n",
    "spark = SparkSession.builder.master(\"local\").appName(\"Luke HW\")\\\n",
    "    .config(\"spark.some.config.option\", \"some-value\")\\\n",
    "    .getOrCreate()"
   ]
  },
  {
   "cell_type": "code",
   "execution_count": 4,
   "metadata": {},
   "outputs": [],
   "source": [
    "df = spark.read.option(\"header\", \"true\").csv(\"baby-names.csv\")"
   ]
  },
  {
   "cell_type": "code",
   "execution_count": 6,
   "metadata": {},
   "outputs": [
    {
     "data": {
      "text/plain": [
       "['state', 'sex', 'year', 'name', 'count']"
      ]
     },
     "execution_count": 6,
     "metadata": {},
     "output_type": "execute_result"
    }
   ],
   "source": [
    "df.columns"
   ]
  },
  {
   "cell_type": "code",
   "execution_count": 11,
   "metadata": {},
   "outputs": [
    {
     "name": "stdout",
     "output_type": "stream",
     "text": [
      "+-----+---+----+---------+-----+\n",
      "|state|sex|year|     name|count|\n",
      "+-----+---+----+---------+-----+\n",
      "|   AK|  F|1910|     Mary|   14|\n",
      "|   AK|  F|1910|    Annie|   12|\n",
      "|   AK|  F|1910|     Anna|   10|\n",
      "|   AK|  F|1910| Margaret|    8|\n",
      "|   AK|  F|1910|    Helen|    7|\n",
      "|   AK|  F|1910|    Elsie|    6|\n",
      "|   AK|  F|1910|     Lucy|    6|\n",
      "|   AK|  F|1910|  Dorothy|    5|\n",
      "|   AK|  F|1911|     Mary|   12|\n",
      "|   AK|  F|1911| Margaret|    7|\n",
      "|   AK|  F|1911|     Ruth|    7|\n",
      "|   AK|  F|1911|    Annie|    6|\n",
      "|   AK|  F|1911|Elizabeth|    6|\n",
      "|   AK|  F|1911|    Helen|    6|\n",
      "|   AK|  F|1912|     Mary|    9|\n",
      "|   AK|  F|1912|    Elsie|    8|\n",
      "|   AK|  F|1912|    Agnes|    7|\n",
      "|   AK|  F|1912|     Anna|    7|\n",
      "|   AK|  F|1912|    Helen|    7|\n",
      "|   AK|  F|1912|   Louise|    7|\n",
      "+-----+---+----+---------+-----+\n",
      "only showing top 20 rows\n",
      "\n"
     ]
    }
   ],
   "source": [
    "df.show(20)"
   ]
  },
  {
   "cell_type": "code",
   "execution_count": 9,
   "metadata": {},
   "outputs": [
    {
     "data": {
      "text/plain": [
       "5933561"
      ]
     },
     "execution_count": 9,
     "metadata": {},
     "output_type": "execute_result"
    }
   ],
   "source": [
    "df.count()"
   ]
  },
  {
   "cell_type": "code",
   "execution_count": 14,
   "metadata": {},
   "outputs": [
    {
     "data": {
      "text/plain": [
       "7018"
      ]
     },
     "execution_count": 14,
     "metadata": {},
     "output_type": "execute_result"
    }
   ],
   "source": [
    "dfJohn = df.filter((df.name==\"John\"))\n",
    "dfJohn.count()"
   ]
  },
  {
   "cell_type": "code",
   "execution_count": 22,
   "metadata": {},
   "outputs": [
    {
     "name": "stdout",
     "output_type": "stream",
     "text": [
      "+-----+---+----+-----------+-----+\n",
      "|state|sex|year|       name|count|\n",
      "+-----+---+----+-----------+-----+\n",
      "|   NE|  M|1980|    Matthew|  434|\n",
      "|   NE|  M|1980|    Michael|  426|\n",
      "|   NE|  M|1980|      Jason|  409|\n",
      "|   NE|  M|1980|     Joshua|  366|\n",
      "|   NE|  M|1980|Christopher|  359|\n",
      "|   NE|  M|1980|     Justin|  337|\n",
      "|   NE|  M|1980|       Ryan|  320|\n",
      "|   NE|  M|1980|      David|  292|\n",
      "|   NE|  M|1980|     Andrew|  281|\n",
      "|   NE|  M|1980|      Brian|  278|\n",
      "+-----+---+----+-----------+-----+\n",
      "only showing top 10 rows\n",
      "\n"
     ]
    }
   ],
   "source": [
    "dfSex = df.filter((df.sex==\"M\"))\n",
    "dfSexState = dfSex.filter((dfSex.state==\"NE\"))\n",
    "dfSexStateYear = dfSexState.filter((dfSexState.year==\"1980\"))\n",
    "dfSexStateYear.show(10)"
   ]
  },
  {
   "cell_type": "code",
   "execution_count": null,
   "metadata": {},
   "outputs": [],
   "source": []
  }
 ],
 "metadata": {
  "kernelspec": {
   "display_name": "Python 3",
   "language": "python",
   "name": "python3"
  },
  "language_info": {
   "codemirror_mode": {
    "name": "ipython",
    "version": 3
   },
   "file_extension": ".py",
   "mimetype": "text/x-python",
   "name": "python",
   "nbconvert_exporter": "python",
   "pygments_lexer": "ipython3",
   "version": "3.7.6"
  }
 },
 "nbformat": 4,
 "nbformat_minor": 4
}
